{
 "cells": [
  {
   "cell_type": "code",
   "execution_count": 1,
   "id": "84108ab8-4cf5-4025-bc9f-a0dae6e35f74",
   "metadata": {},
   "outputs": [],
   "source": [
    "from pathlib import Path\n",
    "from datetime import datetime\n",
    "import json\n",
    "import copy"
   ]
  },
  {
   "cell_type": "code",
   "execution_count": 2,
   "id": "48f85fda-c461-472f-93ea-90f7ca2d2b41",
   "metadata": {},
   "outputs": [],
   "source": [
    "contents = Path('rooms_raw.json').read_text()"
   ]
  },
  {
   "cell_type": "code",
   "execution_count": 3,
   "id": "2ba5807a-973f-413b-8821-cdd43d6784c4",
   "metadata": {},
   "outputs": [],
   "source": [
    "data = json.loads(contents)"
   ]
  },
  {
   "cell_type": "code",
   "execution_count": 9,
   "id": "2b565fdc-6282-438d-b48a-6a9b71616520",
   "metadata": {},
   "outputs": [],
   "source": [
    "x = data['Hogwarts Dungeon Five']"
   ]
  },
  {
   "cell_type": "code",
   "execution_count": 10,
   "id": "66a391bf-53b9-47f5-87aa-d62b4fb8f069",
   "metadata": {},
   "outputs": [
    {
     "data": {
      "text/plain": [
       "[{'Index': 10,\n",
       "  'Course': 'Transfiguration',\n",
       "  'Days': 'Monday,Wednesday,Friday',\n",
       "  'Times': '10:10 AM - 11:00 AM',\n",
       "  'Building': 'Hogwarts',\n",
       "  'Room': 'Dungeon Five',\n",
       "  'Classroom': 'Hogwarts Dungeon Five'},\n",
       " {'Index': 11,\n",
       "  'Course': 'Transfiguration',\n",
       "  'Days': 'Monday,Wednesday,Friday',\n",
       "  'Times': '11:15 AM - 12:05 PM',\n",
       "  'Building': 'Hogwarts',\n",
       "  'Room': 'Dungeon Five',\n",
       "  'Classroom': 'Hogwarts Dungeon Five'},\n",
       " {'Index': 17,\n",
       "  'Course': 'Transfiguration',\n",
       "  'Days': 'Tuesday,Thursday',\n",
       "  'Times': '08:00 AM - 09:15 AM',\n",
       "  'Building': 'Hogwarts',\n",
       "  'Room': 'Dungeon Five',\n",
       "  'Classroom': 'Hogwarts Dungeon Five'},\n",
       " {'Index': 18,\n",
       "  'Course': 'Transfiguration',\n",
       "  'Days': 'Tuesday,Thursday',\n",
       "  'Times': '09:30 AM - 10:45 AM',\n",
       "  'Building': 'Hogwarts',\n",
       "  'Room': 'Dungeon Five',\n",
       "  'Classroom': 'Hogwarts Dungeon Five'},\n",
       " {'Index': 19,\n",
       "  'Course': 'Transfiguration',\n",
       "  'Days': 'Tuesday,Thursday',\n",
       "  'Times': '11:00 AM - 12:15 PM',\n",
       "  'Building': 'Hogwarts',\n",
       "  'Room': 'Dungeon Five',\n",
       "  'Classroom': 'Hogwarts Dungeon Five'},\n",
       " {'Index': 885,\n",
       "  'Course': 'Muggle Studies',\n",
       "  'Days': 'Monday,Wednesday,Friday',\n",
       "  'Times': '08:00 AM - 08:50 AM',\n",
       "  'Building': 'Hogwarts',\n",
       "  'Room': 'Dungeon Five',\n",
       "  'Classroom': 'Hogwarts Dungeon Five'},\n",
       " {'Index': 886,\n",
       "  'Course': 'Muggle Studies',\n",
       "  'Days': 'Monday,Wednesday,Friday',\n",
       "  'Times': '09:05 AM - 09:55 AM',\n",
       "  'Building': 'Hogwarts',\n",
       "  'Room': 'Dungeon Five',\n",
       "  'Classroom': 'Hogwarts Dungeon Five'}]"
      ]
     },
     "execution_count": 10,
     "metadata": {},
     "output_type": "execute_result"
    }
   ],
   "source": [
    "x"
   ]
  },
  {
   "cell_type": "code",
   "execution_count": 11,
   "id": "3454a39c-8fb6-4b09-9f21-adcfcd62b3df",
   "metadata": {},
   "outputs": [],
   "source": [
    "def convert_time(t):\n",
    "    return datetime.strftime(datetime.strptime(t, '%I:%M %p'), '%H:%M')"
   ]
  },
  {
   "cell_type": "code",
   "execution_count": 12,
   "id": "6a3986b8-da6b-4851-9731-45c73279c933",
   "metadata": {},
   "outputs": [],
   "source": [
    "def spaces(space):\n",
    "    days = ['Sunday','Monday', 'Tuesday', 'Wednesday', 'Thursday', 'Friday']\n",
    "    for s in space:\n",
    "        del s['Classroom'] # redundant\n",
    "        del s['Room'] # redundant\n",
    "        del s['Building'] # redundant\n",
    "        # convert days to numbers\n",
    "        s['Days'] = list(map(days.index,s['Days'].split(',')))\n",
    "        # convert times to 24 hour format\n",
    "        s['Times'] = list(map(convert_time, s['Times'].split(' - ')))\n",
    "        for key in s.copy().keys():\n",
    "            s[key.lower()] = s[key]\n",
    "            del s[key]\n",
    "    # sort classes by time\n",
    "    return sorted(space, key=lambda s: s['times'])"
   ]
  },
  {
   "cell_type": "code",
   "execution_count": 13,
   "id": "aecddcef-5ee3-4390-acd3-8057b328262b",
   "metadata": {},
   "outputs": [
    {
     "data": {
      "text/plain": [
       "[{'index': 885,\n",
       "  'course': 'Muggle Studies',\n",
       "  'days': [1, 3, 5],\n",
       "  'times': ['08:00', '08:50']},\n",
       " {'index': 17,\n",
       "  'course': 'Transfiguration',\n",
       "  'days': [2, 4],\n",
       "  'times': ['08:00', '09:15']},\n",
       " {'index': 886,\n",
       "  'course': 'Muggle Studies',\n",
       "  'days': [1, 3, 5],\n",
       "  'times': ['09:05', '09:55']},\n",
       " {'index': 18,\n",
       "  'course': 'Transfiguration',\n",
       "  'days': [2, 4],\n",
       "  'times': ['09:30', '10:45']},\n",
       " {'index': 10,\n",
       "  'course': 'Transfiguration',\n",
       "  'days': [1, 3, 5],\n",
       "  'times': ['10:10', '11:00']},\n",
       " {'index': 19,\n",
       "  'course': 'Transfiguration',\n",
       "  'days': [2, 4],\n",
       "  'times': ['11:00', '12:15']},\n",
       " {'index': 11,\n",
       "  'course': 'Transfiguration',\n",
       "  'days': [1, 3, 5],\n",
       "  'times': ['11:15', '12:05']}]"
      ]
     },
     "execution_count": 13,
     "metadata": {},
     "output_type": "execute_result"
    }
   ],
   "source": [
    "spaces(copy.deepcopy(x))"
   ]
  },
  {
   "cell_type": "code",
   "execution_count": 103,
   "id": "72fa692b-612c-4c30-bd36-d82a32e42a9c",
   "metadata": {},
   "outputs": [
    {
     "data": {
      "text/plain": [
       "[1]"
      ]
     },
     "execution_count": 103,
     "metadata": {},
     "output_type": "execute_result"
    }
   ],
   "source": [
    "days = ['Sunday','Monday', 'Tuesday', 'Wednesday', 'Thursday', 'Friday']\n",
    "list(map(days.index,['Monday']))"
   ]
  },
  {
   "cell_type": "code",
   "execution_count": 14,
   "id": "bd6018df-2484-4930-9ee4-9a896057faef",
   "metadata": {},
   "outputs": [],
   "source": [
    "nd1 = {s:spaces(v) for s,v in data.items()}"
   ]
  },
  {
   "cell_type": "code",
   "execution_count": 15,
   "id": "dbe2bc53-4c33-4b5d-ab51-003844af7b1c",
   "metadata": {},
   "outputs": [],
   "source": [
    "nd2 = [dict(room=k, courses=v) for k,v in nd1.items()]"
   ]
  },
  {
   "cell_type": "code",
   "execution_count": 16,
   "id": "7d72c33a-639b-4893-9a13-884681948f97",
   "metadata": {},
   "outputs": [],
   "source": [
    "with open('rooms.json', 'w+') as f:\n",
    "    json.dump(nd2, f)"
   ]
  }
 ],
 "metadata": {
  "kernelspec": {
   "display_name": "Python 3",
   "language": "python",
   "name": "python3"
  },
  "language_info": {
   "codemirror_mode": {
    "name": "ipython",
    "version": 3
   },
   "file_extension": ".py",
   "mimetype": "text/x-python",
   "name": "python",
   "nbconvert_exporter": "python",
   "pygments_lexer": "ipython3",
   "version": "3.9.6"
  }
 },
 "nbformat": 4,
 "nbformat_minor": 5
}
