{
 "cells": [
  {
   "cell_type": "code",
   "execution_count": 1,
   "id": "84108ab8-4cf5-4025-bc9f-a0dae6e35f74",
   "metadata": {},
   "outputs": [],
   "source": [
    "from pathlib import Path\n",
    "from datetime import datetime\n",
    "import json\n",
    "import copy"
   ]
  },
  {
   "cell_type": "code",
   "execution_count": 2,
   "id": "48f85fda-c461-472f-93ea-90f7ca2d2b41",
   "metadata": {},
   "outputs": [],
   "source": [
    "contents = Path('rooms_raw.json').read_text()"
   ]
  },
  {
   "cell_type": "code",
   "execution_count": 20,
   "id": "2ba5807a-973f-413b-8821-cdd43d6784c4",
   "metadata": {},
   "outputs": [],
   "source": [
    "data = json.loads(contents)"
   ]
  },
  {
   "cell_type": "code",
   "execution_count": 97,
   "id": "2b565fdc-6282-438d-b48a-6a9b71616520",
   "metadata": {},
   "outputs": [],
   "source": [
    "x = data['Academic Success Center 300']"
   ]
  },
  {
   "cell_type": "code",
   "execution_count": 98,
   "id": "66a391bf-53b9-47f5-87aa-d62b4fb8f069",
   "metadata": {},
   "outputs": [
    {
     "data": {
      "text/plain": [
       "[{'Index': 1375,\n",
       "  'Course': 'The Victorian Period',\n",
       "  'Days': 'Tuesday,Thursday',\n",
       "  'Times': '08:00 AM - 09:15 AM',\n",
       "  'Building': 'Academic Success Center',\n",
       "  'Room': '300',\n",
       "  'Classroom': 'Academic Success Center 300'},\n",
       " {'Index': 1376,\n",
       "  'Course': 'American Literature to 1799',\n",
       "  'Days': 'Monday,Wednesday',\n",
       "  'Times': '02:30 PM - 03:45 PM',\n",
       "  'Building': 'Academic Success Center',\n",
       "  'Room': '300',\n",
       "  'Classroom': 'Academic Success Center 300'},\n",
       " {'Index': 1382,\n",
       "  'Course': 'Feminist Literary Criticism',\n",
       "  'Days': 'Tuesday,Thursday',\n",
       "  'Times': '12:30 PM - 01:45 PM',\n",
       "  'Building': 'Academic Success Center',\n",
       "  'Room': '300',\n",
       "  'Classroom': 'Academic Success Center 300'},\n",
       " {'Index': 1393,\n",
       "  'Course': 'Poetry Workshop',\n",
       "  'Days': 'Monday',\n",
       "  'Times': '04:00 PM - 06:45 PM',\n",
       "  'Building': 'Academic Success Center',\n",
       "  'Room': '300',\n",
       "  'Classroom': 'Academic Success Center 300'},\n",
       " {'Index': 1408,\n",
       "  'Course': 'American Literature to 1799',\n",
       "  'Days': 'Monday,Wednesday',\n",
       "  'Times': '02:20 PM - 03:35 PM',\n",
       "  'Building': 'Academic Success Center',\n",
       "  'Room': '300',\n",
       "  'Classroom': 'Academic Success Center 300'},\n",
       " {'Index': 1412,\n",
       "  'Course': 'Feminist Literary Criticism',\n",
       "  'Days': 'Tuesday,Thursday',\n",
       "  'Times': '12:30 PM - 01:45 PM',\n",
       "  'Building': 'Academic Success Center',\n",
       "  'Room': '300',\n",
       "  'Classroom': 'Academic Success Center 300'},\n",
       " {'Index': 1418,\n",
       "  'Course': 'Poetry Workshop',\n",
       "  'Days': 'Monday',\n",
       "  'Times': '04:00 PM - 06:45 PM',\n",
       "  'Building': 'Academic Success Center',\n",
       "  'Room': '300',\n",
       "  'Classroom': 'Academic Success Center 300'}]"
      ]
     },
     "execution_count": 98,
     "metadata": {},
     "output_type": "execute_result"
    }
   ],
   "source": [
    "x"
   ]
  },
  {
   "cell_type": "code",
   "execution_count": 92,
   "id": "3454a39c-8fb6-4b09-9f21-adcfcd62b3df",
   "metadata": {},
   "outputs": [],
   "source": [
    "def convert_time(t):\n",
    "    return datetime.strftime(datetime.strptime(t, '%I:%M %p'), '%H:%M')"
   ]
  },
  {
   "cell_type": "code",
   "execution_count": 101,
   "id": "6a3986b8-da6b-4851-9731-45c73279c933",
   "metadata": {},
   "outputs": [],
   "source": [
    "def spaces(space):\n",
    "    days = ['Sunday','Monday', 'Tuesday', 'Wednesday', 'Thursday', 'Friday']\n",
    "    for s in space:\n",
    "        del s['Classroom'] # redundant\n",
    "        del s['Room'] # redundant\n",
    "        del s['Building'] # redundant\n",
    "        # convert days to numbers\n",
    "        s['Days'] = list(map(days.index,s['Days'].split(',')))\n",
    "        # convert times to 24 hour format\n",
    "        s['Times'] = list(map(convert_time, s['Times'].split(' - ')))\n",
    "        for key in s.copy().keys():\n",
    "            s[key.lower()] = s[key]\n",
    "            del s[key]\n",
    "    # sort classes by time\n",
    "    return sorted(space, key=lambda s: s['times'])"
   ]
  },
  {
   "cell_type": "code",
   "execution_count": 102,
   "id": "aecddcef-5ee3-4390-acd3-8057b328262b",
   "metadata": {},
   "outputs": [
    {
     "data": {
      "text/plain": [
       "[{'index': 1375,\n",
       "  'course': 'The Victorian Period',\n",
       "  'days': [2, 4],\n",
       "  'times': ['08:00', '09:15']},\n",
       " {'index': 1382,\n",
       "  'course': 'Feminist Literary Criticism',\n",
       "  'days': [2, 4],\n",
       "  'times': ['12:30', '13:45']},\n",
       " {'index': 1412,\n",
       "  'course': 'Feminist Literary Criticism',\n",
       "  'days': [2, 4],\n",
       "  'times': ['12:30', '13:45']},\n",
       " {'index': 1408,\n",
       "  'course': 'American Literature to 1799',\n",
       "  'days': [1, 3],\n",
       "  'times': ['14:20', '15:35']},\n",
       " {'index': 1376,\n",
       "  'course': 'American Literature to 1799',\n",
       "  'days': [1, 3],\n",
       "  'times': ['14:30', '15:45']},\n",
       " {'index': 1393,\n",
       "  'course': 'Poetry Workshop',\n",
       "  'days': [1],\n",
       "  'times': ['16:00', '18:45']},\n",
       " {'index': 1418,\n",
       "  'course': 'Poetry Workshop',\n",
       "  'days': [1],\n",
       "  'times': ['16:00', '18:45']}]"
      ]
     },
     "execution_count": 102,
     "metadata": {},
     "output_type": "execute_result"
    }
   ],
   "source": [
    "spaces(copy.deepcopy(x))"
   ]
  },
  {
   "cell_type": "code",
   "execution_count": 103,
   "id": "72fa692b-612c-4c30-bd36-d82a32e42a9c",
   "metadata": {},
   "outputs": [
    {
     "data": {
      "text/plain": [
       "[1]"
      ]
     },
     "execution_count": 103,
     "metadata": {},
     "output_type": "execute_result"
    }
   ],
   "source": [
    "days = ['Sunday','Monday', 'Tuesday', 'Wednesday', 'Thursday', 'Friday']\n",
    "list(map(days.index,['Monday']))"
   ]
  },
  {
   "cell_type": "code",
   "execution_count": 105,
   "id": "bd6018df-2484-4930-9ee4-9a896057faef",
   "metadata": {},
   "outputs": [],
   "source": [
    "nd1 = {s:spaces(v) for s,v in data.items()}"
   ]
  },
  {
   "cell_type": "code",
   "execution_count": 106,
   "id": "dbe2bc53-4c33-4b5d-ab51-003844af7b1c",
   "metadata": {},
   "outputs": [],
   "source": [
    "nd2 = [dict(room=k, courses=v) for k,v in nd1.items()]"
   ]
  },
  {
   "cell_type": "code",
   "execution_count": 107,
   "id": "7d72c33a-639b-4893-9a13-884681948f97",
   "metadata": {},
   "outputs": [],
   "source": [
    "with open('rooms.json', 'w+') as f:\n",
    "    json.dump(nd2, f)"
   ]
  }
 ],
 "metadata": {
  "kernelspec": {
   "display_name": "Python 3",
   "language": "python",
   "name": "python3"
  },
  "language_info": {
   "codemirror_mode": {
    "name": "ipython",
    "version": 3
   },
   "file_extension": ".py",
   "mimetype": "text/x-python",
   "name": "python",
   "nbconvert_exporter": "python",
   "pygments_lexer": "ipython3",
   "version": "3.9.6"
  }
 },
 "nbformat": 4,
 "nbformat_minor": 5
}
